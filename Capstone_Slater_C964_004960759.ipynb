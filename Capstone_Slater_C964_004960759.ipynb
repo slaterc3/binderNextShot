{
 "cells": [
  {
   "cell_type": "code",
   "execution_count": 1,
   "id": "0c089c14",
   "metadata": {},
   "outputs": [
    {
     "name": "stderr",
     "output_type": "stream",
     "text": [
      "[nltk_data] Downloading package stopwords to\n",
      "[nltk_data]     C:\\Users\\slate\\AppData\\Roaming\\nltk_data...\n",
      "[nltk_data]   Package stopwords is already up-to-date!\n",
      "[nltk_data] Downloading package vader_lexicon to\n",
      "[nltk_data]     C:\\Users\\slate\\AppData\\Roaming\\nltk_data...\n",
      "[nltk_data]   Package vader_lexicon is already up-to-date!\n"
     ]
    }
   ],
   "source": [
    "import numpy as np\n",
    "import pandas as pd\n",
    "import matplotlib.pyplot as plt\n",
    "%matplotlib inline\n",
    "from textblob import TextBlob\n",
    "import seaborn as sns\n",
    "import nltk.corpus\n",
    "nltk.download('stopwords')\n",
    "import nltk\n",
    "from nltk.corpus import stopwords\n",
    "import nltk\n",
    "nltk.download('vader_lexicon')\n",
    "from nltk.sentiment.vader import SentimentIntensityAnalyzer\n",
    "sia = SentimentIntensityAnalyzer()\n",
    "import re\n",
    "import string\n",
    "import seaborn as sns\n",
    "from sklearn import metrics\n",
    "from sklearn.model_selection import train_test_split\n",
    "from sklearn.linear_model import LogisticRegression\n",
    "from sklearn.metrics import accuracy_score,classification_report,confusion_matrix\n",
    "import ipywidgets as widgets\n",
    "import logging \n",
    "# import sys\n"
   ]
  },
  {
   "cell_type": "code",
   "execution_count": 2,
   "id": "d0308c7b",
   "metadata": {},
   "outputs": [],
   "source": [
    "# getting the stopwords that add little meaning to the text\n",
    "stop_words = stopwords.words('english')\n",
    "# getting punctuation\n",
    "punc = string.punctuation"
   ]
  },
  {
   "cell_type": "code",
   "execution_count": 3,
   "id": "a67525b4",
   "metadata": {},
   "outputs": [
    {
     "name": "stdout",
     "output_type": "stream",
     "text": [
      "df1.shape[0] == df2.shape[0]\n"
     ]
    },
    {
     "data": {
      "text/plain": [
       "True"
      ]
     },
     "execution_count": 3,
     "metadata": {},
     "output_type": "execute_result"
    }
   ],
   "source": [
    "# reading in the two csv files:\n",
    "# 1. 'financial_tweet_sentiment.csv'\n",
    "df1 = pd.read_csv('financial_tweet_sentiment.csv')\n",
    "# 2. stockerbot-export1.csv\n",
    "df2 = pd.read_csv('stockerbot-export1.csv')\n",
    "\n",
    "print('df1.shape[0] == df2.shape[0]')\n",
    "df1.shape[0] == df2.shape[0]"
   ]
  },
  {
   "cell_type": "markdown",
   "id": "ab2f1a5f",
   "metadata": {},
   "source": [
    "### Concatenating  df1 and df2 to create dataframe df:"
   ]
  },
  {
   "cell_type": "code",
   "execution_count": 4,
   "id": "eca80d5d",
   "metadata": {},
   "outputs": [
    {
     "data": {
      "text/html": [
       "<div>\n",
       "<style scoped>\n",
       "    .dataframe tbody tr th:only-of-type {\n",
       "        vertical-align: middle;\n",
       "    }\n",
       "\n",
       "    .dataframe tbody tr th {\n",
       "        vertical-align: top;\n",
       "    }\n",
       "\n",
       "    .dataframe thead th {\n",
       "        text-align: right;\n",
       "    }\n",
       "</style>\n",
       "<table border=\"1\" class=\"dataframe\">\n",
       "  <thead>\n",
       "    <tr style=\"text-align: right;\">\n",
       "      <th></th>\n",
       "      <th>cleaned_tweets</th>\n",
       "      <th>sentiment</th>\n",
       "      <th>id</th>\n",
       "      <th>text</th>\n",
       "      <th>timestamp</th>\n",
       "      <th>source</th>\n",
       "      <th>symbols</th>\n",
       "      <th>company_names</th>\n",
       "      <th>url</th>\n",
       "      <th>verified</th>\n",
       "    </tr>\n",
       "  </thead>\n",
       "  <tbody>\n",
       "    <tr>\n",
       "      <th>0</th>\n",
       "      <td>video offic mind busi david solomon tell gs in...</td>\n",
       "      <td>0</td>\n",
       "      <td>1.0197E+18</td>\n",
       "      <td>VIDEO: “I was in my office. I was minding my o...</td>\n",
       "      <td>Wed Jul 18 21:33:26 +0000 2018</td>\n",
       "      <td>GoldmanSachs</td>\n",
       "      <td>GS</td>\n",
       "      <td>The Goldman Sachs</td>\n",
       "      <td>https://twitter.com/i/web/status/1019696670777...</td>\n",
       "      <td>TRUE</td>\n",
       "    </tr>\n",
       "    <tr>\n",
       "      <th>1</th>\n",
       "      <td>price lumber lb f sinc hit ytd high maci turna...</td>\n",
       "      <td>0</td>\n",
       "      <td>1.01971E+18</td>\n",
       "      <td>The price of lumber $LB_F is down 22% since hi...</td>\n",
       "      <td>Wed Jul 18 22:22:47 +0000 2018</td>\n",
       "      <td>StockTwits</td>\n",
       "      <td>M</td>\n",
       "      <td>Macy's</td>\n",
       "      <td>https://twitter.com/i/web/status/1019709091038...</td>\n",
       "      <td>TRUE</td>\n",
       "    </tr>\n",
       "    <tr>\n",
       "      <th>2</th>\n",
       "      <td>say american dream dead</td>\n",
       "      <td>-1</td>\n",
       "      <td>1.01971E+18</td>\n",
       "      <td>Who says the American Dream is dead? https://t...</td>\n",
       "      <td>Wed Jul 18 22:32:01 +0000 2018</td>\n",
       "      <td>TheStreet</td>\n",
       "      <td>AIG</td>\n",
       "      <td>American</td>\n",
       "      <td>https://buff.ly/2L3kmc4</td>\n",
       "      <td>TRUE</td>\n",
       "    </tr>\n",
       "    <tr>\n",
       "      <th>3</th>\n",
       "      <td>barri silbert extrem optimist bitcoin predict ...</td>\n",
       "      <td>1</td>\n",
       "      <td>1.01972E+18</td>\n",
       "      <td>Barry Silbert is extremely optimistic on bitco...</td>\n",
       "      <td>Wed Jul 18 22:52:52 +0000 2018</td>\n",
       "      <td>MarketWatch</td>\n",
       "      <td>BTC</td>\n",
       "      <td>Bitcoin</td>\n",
       "      <td>https://twitter.com/i/web/status/1019716662587...</td>\n",
       "      <td>TRUE</td>\n",
       "    </tr>\n",
       "    <tr>\n",
       "      <th>4</th>\n",
       "      <td>satellit avoid attack space junk circl earth paid</td>\n",
       "      <td>-1</td>\n",
       "      <td>1.01972E+18</td>\n",
       "      <td>How satellites avoid attacks and space junk wh...</td>\n",
       "      <td>Wed Jul 18 23:00:01 +0000 2018</td>\n",
       "      <td>Forbes</td>\n",
       "      <td>ORCL</td>\n",
       "      <td>Oracle</td>\n",
       "      <td>http://on.forbes.com/6013DqDDU</td>\n",
       "      <td>TRUE</td>\n",
       "    </tr>\n",
       "  </tbody>\n",
       "</table>\n",
       "</div>"
      ],
      "text/plain": [
       "                                      cleaned_tweets  sentiment           id  \\\n",
       "0  video offic mind busi david solomon tell gs in...          0   1.0197E+18   \n",
       "1  price lumber lb f sinc hit ytd high maci turna...          0  1.01971E+18   \n",
       "2                            say american dream dead         -1  1.01971E+18   \n",
       "3  barri silbert extrem optimist bitcoin predict ...          1  1.01972E+18   \n",
       "4  satellit avoid attack space junk circl earth paid         -1  1.01972E+18   \n",
       "\n",
       "                                                text  \\\n",
       "0  VIDEO: “I was in my office. I was minding my o...   \n",
       "1  The price of lumber $LB_F is down 22% since hi...   \n",
       "2  Who says the American Dream is dead? https://t...   \n",
       "3  Barry Silbert is extremely optimistic on bitco...   \n",
       "4  How satellites avoid attacks and space junk wh...   \n",
       "\n",
       "                        timestamp        source symbols      company_names  \\\n",
       "0  Wed Jul 18 21:33:26 +0000 2018  GoldmanSachs      GS  The Goldman Sachs   \n",
       "1  Wed Jul 18 22:22:47 +0000 2018    StockTwits       M             Macy's   \n",
       "2  Wed Jul 18 22:32:01 +0000 2018     TheStreet     AIG           American   \n",
       "3  Wed Jul 18 22:52:52 +0000 2018   MarketWatch     BTC            Bitcoin   \n",
       "4  Wed Jul 18 23:00:01 +0000 2018        Forbes    ORCL             Oracle   \n",
       "\n",
       "                                                 url verified  \n",
       "0  https://twitter.com/i/web/status/1019696670777...     TRUE  \n",
       "1  https://twitter.com/i/web/status/1019709091038...     TRUE  \n",
       "2                            https://buff.ly/2L3kmc4     TRUE  \n",
       "3  https://twitter.com/i/web/status/1019716662587...     TRUE  \n",
       "4                     http://on.forbes.com/6013DqDDU     TRUE  "
      ]
     },
     "execution_count": 4,
     "metadata": {},
     "output_type": "execute_result"
    }
   ],
   "source": [
    "# concatenating the two \n",
    "df = pd.concat([df1,df2],axis=1)\n",
    "# before removing unnecessary columns and \n",
    "df.head()"
   ]
  },
  {
   "cell_type": "markdown",
   "id": "72cfc6de",
   "metadata": {},
   "source": [
    "### Checking for null values:"
   ]
  },
  {
   "cell_type": "code",
   "execution_count": 5,
   "id": "d873d244",
   "metadata": {},
   "outputs": [
    {
     "data": {
      "text/plain": [
       "cleaned_tweets       6\n",
       "sentiment            0\n",
       "id                   0\n",
       "text                 0\n",
       "timestamp            2\n",
       "source               3\n",
       "symbols              3\n",
       "company_names        5\n",
       "url               6391\n",
       "verified             4\n",
       "dtype: int64"
      ]
     },
     "execution_count": 5,
     "metadata": {},
     "output_type": "execute_result"
    }
   ],
   "source": [
    "# checking data for null values\n",
    "df.isnull().sum()"
   ]
  },
  {
   "cell_type": "code",
   "execution_count": 6,
   "id": "2bbd2164",
   "metadata": {},
   "outputs": [],
   "source": [
    "# removing 'url' column\n",
    "df.drop('url',axis=1,inplace=True)\n",
    "# removing other null values:\n",
    "df.dropna(inplace=True)"
   ]
  },
  {
   "cell_type": "code",
   "execution_count": 7,
   "id": "4fa40503",
   "metadata": {},
   "outputs": [],
   "source": [
    "# removing columns: verified,id,source,timestamp, and cleaned_tweets\n",
    "df.drop(columns=['cleaned_tweets','verified','id','source','timestamp'],inplace=True)"
   ]
  },
  {
   "cell_type": "code",
   "execution_count": 8,
   "id": "5b591313",
   "metadata": {},
   "outputs": [],
   "source": [
    "# now I will take some measurements of the text data\n",
    "# length of each text sample\n",
    "df['text_len'] = df['text'].apply(lambda x: len(x))\n",
    "# punctuation count for each text sample\n",
    "def punc_count(text):\n",
    "    count = 0\n",
    "    for item in text:\n",
    "        if item in string.punctuation:\n",
    "            count += 1\n",
    "    return count\n",
    "df['punc_count'] = df['text'].apply(lambda x: punc_count(x))\n",
    "# df.head(1)"
   ]
  },
  {
   "cell_type": "markdown",
   "id": "dae4cc41",
   "metadata": {},
   "source": [
    "# Sentiment Key\n",
    "###  1 = Positive\n",
    "###  0 = Neutral\n",
    "### -1 = Negative"
   ]
  },
  {
   "cell_type": "code",
   "execution_count": 9,
   "id": "57a2fdb8",
   "metadata": {},
   "outputs": [
    {
     "data": {
      "text/plain": [
       "<AxesSubplot:xlabel='sentiment', ylabel='count'>"
      ]
     },
     "execution_count": 9,
     "metadata": {},
     "output_type": "execute_result"
    },
    {
     "data": {
      "image/png": "[encoded data removed]",
      "text/plain": [
       "<Figure size 432x288 with 1 Axes>"
      ]
     },
     "metadata": {
      "needs_background": "light"
     },
     "output_type": "display_data"
    }
   ],
   "source": [
    "# the sentiment labels\n",
    "sns.countplot(x='sentiment',data=df)"
   ]
  },
  {
   "cell_type": "code",
   "execution_count": 10,
   "id": "5a2f6edd",
   "metadata": {},
   "outputs": [
    {
     "data": {
      "text/plain": [
       "<AxesSubplot:xlabel='sentiment', ylabel='count'>"
      ]
     },
     "execution_count": 10,
     "metadata": {},
     "output_type": "execute_result"
    },
    {
     "data": {
      "image/png": "[encoded data removed]",
      "text/plain": [
       "<Figure size 432x288 with 1 Axes>"
      ]
     },
     "metadata": {
      "needs_background": "light"
     },
     "output_type": "display_data"
    }
   ],
   "source": [
    "# dropping neutral sentiment:\n",
    "df.drop(df[df['sentiment']==0].index,inplace=True)\n",
    "sns.countplot(x='sentiment',data=df)"
   ]
  },
  {
   "cell_type": "code",
   "execution_count": 11,
   "id": "337eaff7",
   "metadata": {},
   "outputs": [],
   "source": [
    "# seeing if there is any pattern with the 3 sentiment labels\n",
    "# and text length\n",
    "# but removing outliers\n",
    "\n",
    "df.drop(df[df['text_len']<10].index,inplace=True)"
   ]
  },
  {
   "cell_type": "code",
   "execution_count": 12,
   "id": "1718bbe0",
   "metadata": {},
   "outputs": [],
   "source": [
    "# text length outlier removal\n",
    "df.drop(df[df['text_len']>800].index,inplace=True)\n",
    "\n"
   ]
  },
  {
   "cell_type": "markdown",
   "id": "ada5008c",
   "metadata": {},
   "source": [
    "### df.describe()"
   ]
  },
  {
   "cell_type": "code",
   "execution_count": 13,
   "id": "01f33ce8",
   "metadata": {},
   "outputs": [
    {
     "data": {
      "text/html": [
       "<div>\n",
       "<style scoped>\n",
       "    .dataframe tbody tr th:only-of-type {\n",
       "        vertical-align: middle;\n",
       "    }\n",
       "\n",
       "    .dataframe tbody tr th {\n",
       "        vertical-align: top;\n",
       "    }\n",
       "\n",
       "    .dataframe thead th {\n",
       "        text-align: right;\n",
       "    }\n",
       "</style>\n",
       "<table border=\"1\" class=\"dataframe\">\n",
       "  <thead>\n",
       "    <tr style=\"text-align: right;\">\n",
       "      <th></th>\n",
       "      <th>sentiment</th>\n",
       "      <th>text_len</th>\n",
       "      <th>punc_count</th>\n",
       "    </tr>\n",
       "  </thead>\n",
       "  <tbody>\n",
       "    <tr>\n",
       "      <th>count</th>\n",
       "      <td>11101.000000</td>\n",
       "      <td>11101.000000</td>\n",
       "      <td>11101.000000</td>\n",
       "    </tr>\n",
       "    <tr>\n",
       "      <th>mean</th>\n",
       "      <td>0.532294</td>\n",
       "      <td>117.018106</td>\n",
       "      <td>11.145212</td>\n",
       "    </tr>\n",
       "    <tr>\n",
       "      <th>std</th>\n",
       "      <td>0.846597</td>\n",
       "      <td>25.181935</td>\n",
       "      <td>5.358347</td>\n",
       "    </tr>\n",
       "    <tr>\n",
       "      <th>min</th>\n",
       "      <td>-1.000000</td>\n",
       "      <td>12.000000</td>\n",
       "      <td>1.000000</td>\n",
       "    </tr>\n",
       "    <tr>\n",
       "      <th>25%</th>\n",
       "      <td>1.000000</td>\n",
       "      <td>100.000000</td>\n",
       "      <td>7.000000</td>\n",
       "    </tr>\n",
       "    <tr>\n",
       "      <th>50%</th>\n",
       "      <td>1.000000</td>\n",
       "      <td>126.000000</td>\n",
       "      <td>10.000000</td>\n",
       "    </tr>\n",
       "    <tr>\n",
       "      <th>75%</th>\n",
       "      <td>1.000000</td>\n",
       "      <td>138.000000</td>\n",
       "      <td>14.000000</td>\n",
       "    </tr>\n",
       "    <tr>\n",
       "      <th>max</th>\n",
       "      <td>1.000000</td>\n",
       "      <td>159.000000</td>\n",
       "      <td>55.000000</td>\n",
       "    </tr>\n",
       "  </tbody>\n",
       "</table>\n",
       "</div>"
      ],
      "text/plain": [
       "          sentiment      text_len    punc_count\n",
       "count  11101.000000  11101.000000  11101.000000\n",
       "mean       0.532294    117.018106     11.145212\n",
       "std        0.846597     25.181935      5.358347\n",
       "min       -1.000000     12.000000      1.000000\n",
       "25%        1.000000    100.000000      7.000000\n",
       "50%        1.000000    126.000000     10.000000\n",
       "75%        1.000000    138.000000     14.000000\n",
       "max        1.000000    159.000000     55.000000"
      ]
     },
     "execution_count": 13,
     "metadata": {},
     "output_type": "execute_result"
    }
   ],
   "source": [
    "df.describe()"
   ]
  },
  {
   "cell_type": "markdown",
   "id": "c1fda30f",
   "metadata": {},
   "source": [
    "### df.info( )"
   ]
  },
  {
   "cell_type": "code",
   "execution_count": 14,
   "id": "f8d25d09",
   "metadata": {},
   "outputs": [
    {
     "name": "stdout",
     "output_type": "stream",
     "text": [
      "<class 'pandas.core.frame.DataFrame'>\n",
      "Int64Index: 11101 entries, 2 to 28434\n",
      "Data columns (total 6 columns):\n",
      " #   Column         Non-Null Count  Dtype \n",
      "---  ------         --------------  ----- \n",
      " 0   sentiment      11101 non-null  int64 \n",
      " 1   text           11101 non-null  object\n",
      " 2   symbols        11101 non-null  object\n",
      " 3   company_names  11101 non-null  object\n",
      " 4   text_len       11101 non-null  int64 \n",
      " 5   punc_count     11101 non-null  int64 \n",
      "dtypes: int64(3), object(3)\n",
      "memory usage: 607.1+ KB\n"
     ]
    }
   ],
   "source": [
    "df.info()"
   ]
  },
  {
   "cell_type": "code",
   "execution_count": 15,
   "id": "fcf826a1",
   "metadata": {},
   "outputs": [],
   "source": [
    "df.drop(df[df['text_len']<10].index,inplace=True)"
   ]
  },
  {
   "cell_type": "markdown",
   "id": "3b7320dc",
   "metadata": {},
   "source": [
    "### sentiment and text length, sns.violinplot( ... )"
   ]
  },
  {
   "cell_type": "code",
   "execution_count": 16,
   "id": "24228474",
   "metadata": {},
   "outputs": [
    {
     "data": {
      "text/plain": [
       "<AxesSubplot:xlabel='sentiment', ylabel='text_len'>"
      ]
     },
     "execution_count": 16,
     "metadata": {},
     "output_type": "execute_result"
    },
    {
     "data": {
      "image/png": "[encoded data removed]",
      "text/plain": [
       "<Figure size 432x288 with 1 Axes>"
      ]
     },
     "metadata": {
      "needs_background": "light"
     },
     "output_type": "display_data"
    }
   ],
   "source": [
    "sns.violinplot(x='sentiment',y='text_len',data=df)\n",
    "# perhaps notable trend here"
   ]
  },
  {
   "cell_type": "code",
   "execution_count": 17,
   "id": "041319ad",
   "metadata": {},
   "outputs": [],
   "source": [
    "# punctuation outliers removed\n",
    "df.drop(df[df['punc_count']>1200].index,inplace=True)"
   ]
  },
  {
   "cell_type": "markdown",
   "id": "875f5958",
   "metadata": {},
   "source": [
    "### little if any correlation between punctuation and sentiment:"
   ]
  },
  {
   "cell_type": "code",
   "execution_count": 18,
   "id": "419fc7a6",
   "metadata": {},
   "outputs": [
    {
     "data": {
      "text/plain": [
       "<AxesSubplot:xlabel='sentiment', ylabel='punc_count'>"
      ]
     },
     "execution_count": 18,
     "metadata": {},
     "output_type": "execute_result"
    },
    {
     "data": {
      "image/png": "[encoded data removed]",
      "text/plain": [
       "<Figure size 432x288 with 1 Axes>"
      ]
     },
     "metadata": {
      "needs_background": "light"
     },
     "output_type": "display_data"
    }
   ],
   "source": [
    "sns.violinplot(x='sentiment',y='punc_count',data=df)\n",
    "# little variation observed"
   ]
  },
  {
   "cell_type": "code",
   "execution_count": 19,
   "id": "fa8759d0",
   "metadata": {},
   "outputs": [],
   "source": [
    "# now processing the text:\n",
    "# removing stop words\n",
    "df['cleaner_text'] = df['text'].apply(lambda x: ' '.join([word for word in x.split() if word not in (stop_words)]))"
   ]
  },
  {
   "cell_type": "code",
   "execution_count": 21,
   "id": "28d6dbbc",
   "metadata": {},
   "outputs": [],
   "source": [
    "# and now dropping urls - 2 functions, \n",
    "# using regular expression module\n",
    "def remove_url(text):\n",
    "    return re.sub(r'http\\S+','',text)\n",
    "\n",
    "def remove_url_www(text):\n",
    "    return re.sub(r'www\\S+','',text)\n",
    "df['cleaner_text'] = df['cleaner_text'].apply(lambda x: remove_url(x))"
   ]
  },
  {
   "cell_type": "code",
   "execution_count": 22,
   "id": "19523dc0",
   "metadata": {},
   "outputs": [],
   "source": [
    "df['cleaner_text'] = df['cleaner_text'].apply(lambda x: remove_url_www(x))"
   ]
  },
  {
   "cell_type": "markdown",
   "id": "e05d106a",
   "metadata": {},
   "source": [
    "### cleaner_text vs original"
   ]
  },
  {
   "cell_type": "code",
   "execution_count": 23,
   "id": "ee306f00",
   "metadata": {},
   "outputs": [
    {
     "data": {
      "text/html": [
       "<div>\n",
       "<style scoped>\n",
       "    .dataframe tbody tr th:only-of-type {\n",
       "        vertical-align: middle;\n",
       "    }\n",
       "\n",
       "    .dataframe tbody tr th {\n",
       "        vertical-align: top;\n",
       "    }\n",
       "\n",
       "    .dataframe thead th {\n",
       "        text-align: right;\n",
       "    }\n",
       "</style>\n",
       "<table border=\"1\" class=\"dataframe\">\n",
       "  <thead>\n",
       "    <tr style=\"text-align: right;\">\n",
       "      <th></th>\n",
       "      <th>cleaner_text</th>\n",
       "      <th>text</th>\n",
       "    </tr>\n",
       "  </thead>\n",
       "  <tbody>\n",
       "    <tr>\n",
       "      <th>2</th>\n",
       "      <td>Who says American Dream dead?</td>\n",
       "      <td>Who says the American Dream is dead? https://t...</td>\n",
       "    </tr>\n",
       "    <tr>\n",
       "      <th>3</th>\n",
       "      <td>Barry Silbert extremely optimistic bitcoin -- ...</td>\n",
       "      <td>Barry Silbert is extremely optimistic on bitco...</td>\n",
       "    </tr>\n",
       "    <tr>\n",
       "      <th>4</th>\n",
       "      <td>How satellites avoid attacks space junk circli...</td>\n",
       "      <td>How satellites avoid attacks and space junk wh...</td>\n",
       "    </tr>\n",
       "    <tr>\n",
       "      <th>8</th>\n",
       "      <td>Senate wants emergency alerts go Netflix Spoti...</td>\n",
       "      <td>Senate wants emergency alerts to go out throug...</td>\n",
       "    </tr>\n",
       "    <tr>\n",
       "      <th>10</th>\n",
       "      <td>U.S. proposes expedited appeal fight AT&amp;amp;T ...</td>\n",
       "      <td>U.S. proposes expedited appeal in fight with A...</td>\n",
       "    </tr>\n",
       "  </tbody>\n",
       "</table>\n",
       "</div>"
      ],
      "text/plain": [
       "                                         cleaner_text  \\\n",
       "2                      Who says American Dream dead?    \n",
       "3   Barry Silbert extremely optimistic bitcoin -- ...   \n",
       "4   How satellites avoid attacks space junk circli...   \n",
       "8   Senate wants emergency alerts go Netflix Spoti...   \n",
       "10  U.S. proposes expedited appeal fight AT&amp;T ...   \n",
       "\n",
       "                                                 text  \n",
       "2   Who says the American Dream is dead? https://t...  \n",
       "3   Barry Silbert is extremely optimistic on bitco...  \n",
       "4   How satellites avoid attacks and space junk wh...  \n",
       "8   Senate wants emergency alerts to go out throug...  \n",
       "10  U.S. proposes expedited appeal in fight with A...  "
      ]
     },
     "execution_count": 23,
     "metadata": {},
     "output_type": "execute_result"
    }
   ],
   "source": [
    "df[['cleaner_text','text']].head()"
   ]
  },
  {
   "cell_type": "code",
   "execution_count": 24,
   "id": "019d5135",
   "metadata": {},
   "outputs": [],
   "source": [
    "# now using the NLTK tool kit to get sentiment scores\n",
    "# initializing the SentimentIntesityAnalyzer\n",
    "sia = SentimentIntensityAnalyzer()"
   ]
  },
  {
   "cell_type": "markdown",
   "id": "c443c6f9",
   "metadata": {},
   "source": [
    "### example sentiment scores for each text item:"
   ]
  },
  {
   "cell_type": "code",
   "execution_count": 25,
   "id": "2d3e06a8",
   "metadata": {},
   "outputs": [
    {
     "name": "stdout",
     "output_type": "stream",
     "text": [
      "\n",
      " Who says American Dream dead?  \n",
      " ******************************\n",
      "neg:0.462 | \n",
      "neu:0.323 | \n",
      "pos:0.215 | \n",
      "compound:-0.5106 | \n",
      "\n",
      " Barry Silbert extremely optimistic bitcoin -- predicts 99% new crypto entrants “going zero…  \n",
      " ********************************************************************************************\n",
      "neg:0.0 | \n",
      "neu:0.822 | \n",
      "pos:0.178 | \n",
      "compound:0.3804 | \n",
      "\n",
      " How satellites avoid attacks space junk circling Earth  #paid @Oracle  \n",
      " **********************************************************************\n",
      "neg:0.389 | \n",
      "neu:0.611 | \n",
      "pos:0.0 | \n",
      "compound:-0.6249 | \n",
      "\n",
      " Senate wants emergency alerts go Netflix Spotify etc.  @grg \n",
      " ***********************************************************\n",
      "neg:0.245 | \n",
      "neu:0.755 | \n",
      "pos:0.0 | \n",
      "compound:-0.3818 | \n"
     ]
    }
   ],
   "source": [
    "# demonstration of sia in action:\n",
    "for text in df['cleaner_text'].head(4):\n",
    "    \n",
    "    print('\\n',text,'\\n','*'*len(text))\n",
    "    sent = sia.polarity_scores(text)\n",
    "    for score in sent:\n",
    "        print('{0}:{1} | '.format(score,sent[score]))"
   ]
  },
  {
   "cell_type": "code",
   "execution_count": 26,
   "id": "62009df3",
   "metadata": {},
   "outputs": [],
   "source": [
    "# now to give every text element its own sentiment score \n",
    "# this will be in the form of a dictionary\n",
    "# but really the only score we will be interested in \n",
    "# is the compound score:\n",
    "df['sia_score'] = df['cleaner_text'].apply(lambda x: sia.polarity_scores(x))"
   ]
  },
  {
   "cell_type": "markdown",
   "id": "664b0e2f",
   "metadata": {},
   "source": [
    "###  df['sia_score'].head(3)"
   ]
  },
  {
   "cell_type": "code",
   "execution_count": 27,
   "id": "e6752220",
   "metadata": {},
   "outputs": [
    {
     "data": {
      "text/plain": [
       "2    {'neg': 0.462, 'neu': 0.323, 'pos': 0.215, 'co...\n",
       "3    {'neg': 0.0, 'neu': 0.822, 'pos': 0.178, 'comp...\n",
       "4    {'neg': 0.389, 'neu': 0.611, 'pos': 0.0, 'comp...\n",
       "Name: sia_score, dtype: object"
      ]
     },
     "execution_count": 27,
     "metadata": {},
     "output_type": "execute_result"
    }
   ],
   "source": [
    "df['sia_score'].head(3)"
   ]
  },
  {
   "cell_type": "code",
   "execution_count": 28,
   "id": "0229cd8c",
   "metadata": {},
   "outputs": [],
   "source": [
    "# now we are going to retrieve the compound score \n",
    "# and put it in its own column\n",
    "# the sia_score is a dictionary\n",
    "df['compound'] = df['sia_score'].apply(lambda x: x['compound'])"
   ]
  },
  {
   "cell_type": "code",
   "execution_count": 29,
   "id": "e568b7b5",
   "metadata": {},
   "outputs": [],
   "source": [
    "df.drop('sia_score',axis=1,inplace=True)"
   ]
  },
  {
   "cell_type": "code",
   "execution_count": 30,
   "id": "9145814a",
   "metadata": {},
   "outputs": [],
   "source": [
    "# dropping original text as its not needed\n",
    "df.drop('text',axis=1,inplace=True)"
   ]
  },
  {
   "cell_type": "markdown",
   "id": "abad3c89",
   "metadata": {},
   "source": [
    "### Distribution of the compound score"
   ]
  },
  {
   "cell_type": "code",
   "execution_count": 31,
   "id": "f917c581",
   "metadata": {},
   "outputs": [
    {
     "data": {
      "text/plain": [
       "<AxesSubplot:xlabel='compound', ylabel='Count'>"
      ]
     },
     "execution_count": 31,
     "metadata": {},
     "output_type": "execute_result"
    },
    {
     "data": {
      "image/png": "[encoded data removed]",
      "text/plain": [
       "<Figure size 432x288 with 1 Axes>"
      ]
     },
     "metadata": {
      "needs_background": "light"
     },
     "output_type": "display_data"
    }
   ],
   "source": [
    "# taking a look of the distribution of the compound score\n",
    "sns.histplot(df['compound'],bins=20)"
   ]
  },
  {
   "cell_type": "code",
   "execution_count": 32,
   "id": "731866d3",
   "metadata": {},
   "outputs": [],
   "source": [
    "def get_avg_compound(symbol):\n",
    "    count = 0\n",
    "    total_comp = 0.0\n",
    "    for i in range(len(df)):\n",
    "        if df.iloc[i].symbols == symbol:\n",
    "            count +=1\n",
    "            total_comp += df.iloc[i]['compound']\n",
    "    return total_comp/count"
   ]
  },
  {
   "cell_type": "code",
   "execution_count": 33,
   "id": "3d75705c",
   "metadata": {},
   "outputs": [],
   "source": [
    "def get_avg_sentiment(symbol):\n",
    "    count = 0\n",
    "    total_sent = 0.0\n",
    "    for i in range(len(df)):\n",
    "        if df.iloc[i].symbols == symbol:\n",
    "            count += 1\n",
    "            total_sent += df.iloc[i]['sentiment']\n",
    "    if count > 0:\n",
    "        return total_sent/count"
   ]
  },
  {
   "cell_type": "code",
   "execution_count": 34,
   "id": "62ab7385",
   "metadata": {},
   "outputs": [],
   "source": [
    "symbols_15 = []\n",
    "for x in df.symbols.head(10):\n",
    "    symbols_15.append(x)"
   ]
  },
  {
   "cell_type": "markdown",
   "id": "342e5955",
   "metadata": {},
   "source": [
    "### Using a function we can see the average compound score for 10 stocks/cryptocurrencies with the most engagement:"
   ]
  },
  {
   "cell_type": "code",
   "execution_count": 35,
   "id": "8cbcde82",
   "metadata": {},
   "outputs": [
    {
     "data": {
      "image/png": "[encoded data removed]",
      "text/plain": [
       "<Figure size 432x288 with 1 Axes>"
      ]
     },
     "metadata": {
      "needs_background": "light"
     },
     "output_type": "display_data"
    }
   ],
   "source": [
    "for x in symbols_15:\n",
    "    plt.bar(x,get_avg_compound(x))\n",
    "    plt.title(\"Average Sentiment Compound Scores of Stocks/Cryptocurrencies\")\n",
    "    plt.ylabel('compound score')\n",
    "    plt.xlabel('Stock Symbol')"
   ]
  },
  {
   "cell_type": "markdown",
   "id": "878476a2",
   "metadata": {},
   "source": [
    "### Likewise we can see the average sentiment scores from the labeled sentiment data:"
   ]
  },
  {
   "cell_type": "code",
   "execution_count": 36,
   "id": "87238b78",
   "metadata": {},
   "outputs": [
    {
     "data": {
      "image/png": "[encoded data removed]",
      "text/plain": [
       "<Figure size 432x288 with 1 Axes>"
      ]
     },
     "metadata": {
      "needs_background": "light"
     },
     "output_type": "display_data"
    }
   ],
   "source": [
    "for x in symbols_15:\n",
    "    plt.bar(x,get_avg_sentiment(x))\n",
    "    plt.title(\"Average Sentiment Label Scores of Stocks/Cryptocurrencies\")\n",
    "    plt.ylabel('average sentiment label')\n",
    "    plt.xlabel('Stock Symbol')"
   ]
  },
  {
   "cell_type": "markdown",
   "id": "5a138097",
   "metadata": {},
   "source": [
    "### The heatmap shows that our compound scores highly correlat with the sentiment labels, as the barplots above suggested\n",
    "### Modest correlation with text lenght, but minimal with punctuation count"
   ]
  },
  {
   "cell_type": "code",
   "execution_count": 37,
   "id": "4fdb47c2",
   "metadata": {},
   "outputs": [
    {
     "data": {
      "text/plain": [
       "<AxesSubplot:>"
      ]
     },
     "execution_count": 37,
     "metadata": {},
     "output_type": "execute_result"
    },
    {
     "data": {
      "image/png": "[encoded data removed]",
      "text/plain": [
       "<Figure size 432x288 with 2 Axes>"
      ]
     },
     "metadata": {
      "needs_background": "light"
     },
     "output_type": "display_data"
    }
   ],
   "source": [
    "# now to look at a heatmap to see if we can see any patterns:\n",
    "sns.heatmap(df.corr(),annot=True,cmap=\"Spectral\")"
   ]
  },
  {
   "cell_type": "code",
   "execution_count": 38,
   "id": "66fc441e",
   "metadata": {},
   "outputs": [],
   "source": [
    "# we can see that the sentiment compound score correlates very highly\n",
    "# with the sentiment labels\n",
    "# text length shows a small amount of correlation to sentiment\n",
    "# punctuation count does not any significant correlation to sentiment\n",
    "#therefore we can remove punc_count\n",
    "df.drop('punc_count',axis=1,inplace=True)"
   ]
  },
  {
   "cell_type": "code",
   "execution_count": 39,
   "id": "b28f6fa1",
   "metadata": {},
   "outputs": [],
   "source": [
    "#adding a column to make the categorical sentiment score more clear\n",
    "df['pos_neg'] = df['sentiment'].apply(lambda x: 'Positive' if x>0 else 'Negative')"
   ]
  },
  {
   "cell_type": "markdown",
   "id": "a28d3f20",
   "metadata": {},
   "source": [
    "### The standard deviation of the compound scores by sentiment label"
   ]
  },
  {
   "cell_type": "code",
   "execution_count": 40,
   "id": "e4767691",
   "metadata": {},
   "outputs": [
    {
     "data": {
      "text/plain": [
       "<AxesSubplot:xlabel='compound', ylabel='pos_neg'>"
      ]
     },
     "execution_count": 40,
     "metadata": {},
     "output_type": "execute_result"
    },
    {
     "data": {
      "image/png": "[encoded data removed]",
      "text/plain": [
       "<Figure size 432x288 with 1 Axes>"
      ]
     },
     "metadata": {
      "needs_background": "light"
     },
     "output_type": "display_data"
    }
   ],
   "source": [
    "# now looking at standard deviation of compound by sentiment score\n",
    "sns.barplot(x='compound',y='pos_neg',data=df,estimator=np.std)"
   ]
  },
  {
   "cell_type": "code",
   "execution_count": 41,
   "id": "2a10dfd4",
   "metadata": {},
   "outputs": [
    {
     "data": {
      "text/plain": [
       "<AxesSubplot:xlabel='pos_neg', ylabel='text_len'>"
      ]
     },
     "execution_count": 41,
     "metadata": {},
     "output_type": "execute_result"
    },
    {
     "data": {
      "image/png": "[encoded data removed]",
      "text/plain": [
       "<Figure size 432x288 with 1 Axes>"
      ]
     },
     "metadata": {
      "needs_background": "light"
     },
     "output_type": "display_data"
    }
   ],
   "source": [
    "sns.boxplot(x='pos_neg',y='text_len',data=df)\n",
    "# shows minor variation"
   ]
  },
  {
   "cell_type": "markdown",
   "id": "18aed730",
   "metadata": {},
   "source": [
    "### The current dataset before training the model"
   ]
  },
  {
   "cell_type": "code",
   "execution_count": 42,
   "id": "77ac177a",
   "metadata": {},
   "outputs": [
    {
     "data": {
      "text/html": [
       "<div>\n",
       "<style scoped>\n",
       "    .dataframe tbody tr th:only-of-type {\n",
       "        vertical-align: middle;\n",
       "    }\n",
       "\n",
       "    .dataframe tbody tr th {\n",
       "        vertical-align: top;\n",
       "    }\n",
       "\n",
       "    .dataframe thead th {\n",
       "        text-align: right;\n",
       "    }\n",
       "</style>\n",
       "<table border=\"1\" class=\"dataframe\">\n",
       "  <thead>\n",
       "    <tr style=\"text-align: right;\">\n",
       "      <th></th>\n",
       "      <th>sentiment</th>\n",
       "      <th>symbols</th>\n",
       "      <th>company_names</th>\n",
       "      <th>text_len</th>\n",
       "      <th>cleaner_text</th>\n",
       "      <th>compound</th>\n",
       "      <th>pos_neg</th>\n",
       "    </tr>\n",
       "  </thead>\n",
       "  <tbody>\n",
       "    <tr>\n",
       "      <th>2</th>\n",
       "      <td>-1</td>\n",
       "      <td>AIG</td>\n",
       "      <td>American</td>\n",
       "      <td>60</td>\n",
       "      <td>Who says American Dream dead?</td>\n",
       "      <td>-0.5106</td>\n",
       "      <td>Negative</td>\n",
       "    </tr>\n",
       "    <tr>\n",
       "      <th>3</th>\n",
       "      <td>1</td>\n",
       "      <td>BTC</td>\n",
       "      <td>Bitcoin</td>\n",
       "      <td>140</td>\n",
       "      <td>Barry Silbert extremely optimistic bitcoin -- ...</td>\n",
       "      <td>0.3804</td>\n",
       "      <td>Positive</td>\n",
       "    </tr>\n",
       "    <tr>\n",
       "      <th>4</th>\n",
       "      <td>-1</td>\n",
       "      <td>ORCL</td>\n",
       "      <td>Oracle</td>\n",
       "      <td>130</td>\n",
       "      <td>How satellites avoid attacks space junk circli...</td>\n",
       "      <td>-0.6249</td>\n",
       "      <td>Negative</td>\n",
       "    </tr>\n",
       "    <tr>\n",
       "      <th>8</th>\n",
       "      <td>1</td>\n",
       "      <td>NFLX</td>\n",
       "      <td>Netflix</td>\n",
       "      <td>100</td>\n",
       "      <td>Senate wants emergency alerts go Netflix Spoti...</td>\n",
       "      <td>-0.3818</td>\n",
       "      <td>Positive</td>\n",
       "    </tr>\n",
       "    <tr>\n",
       "      <th>10</th>\n",
       "      <td>-1</td>\n",
       "      <td>TWX</td>\n",
       "      <td>Time Warner</td>\n",
       "      <td>127</td>\n",
       "      <td>U.S. proposes expedited appeal fight AT&amp;amp;T ...</td>\n",
       "      <td>-0.3818</td>\n",
       "      <td>Negative</td>\n",
       "    </tr>\n",
       "  </tbody>\n",
       "</table>\n",
       "</div>"
      ],
      "text/plain": [
       "    sentiment symbols company_names  text_len  \\\n",
       "2          -1     AIG      American        60   \n",
       "3           1     BTC       Bitcoin       140   \n",
       "4          -1    ORCL        Oracle       130   \n",
       "8           1    NFLX       Netflix       100   \n",
       "10         -1     TWX   Time Warner       127   \n",
       "\n",
       "                                         cleaner_text  compound   pos_neg  \n",
       "2                      Who says American Dream dead?    -0.5106  Negative  \n",
       "3   Barry Silbert extremely optimistic bitcoin -- ...    0.3804  Positive  \n",
       "4   How satellites avoid attacks space junk circli...   -0.6249  Negative  \n",
       "8   Senate wants emergency alerts go Netflix Spoti...   -0.3818  Positive  \n",
       "10  U.S. proposes expedited appeal fight AT&amp;T ...   -0.3818  Negative  "
      ]
     },
     "execution_count": 42,
     "metadata": {},
     "output_type": "execute_result"
    }
   ],
   "source": [
    "df.head()"
   ]
  },
  {
   "cell_type": "markdown",
   "id": "b3e4a71f",
   "metadata": {},
   "source": [
    "### a pairplot: The hue = pos_neg values:"
   ]
  },
  {
   "cell_type": "code",
   "execution_count": 43,
   "id": "d871c5fc",
   "metadata": {},
   "outputs": [
    {
     "name": "stderr",
     "output_type": "stream",
     "text": [
      "C:\\Users\\slate\\anaconda33\\lib\\site-packages\\seaborn\\distributions.py:306: UserWarning: Dataset has 0 variance; skipping density estimate.\n",
      "  warnings.warn(msg, UserWarning)\n"
     ]
    },
    {
     "data": {
      "text/plain": [
       "<seaborn.axisgrid.PairGrid at 0x1d460bbad60>"
      ]
     },
     "execution_count": 43,
     "metadata": {},
     "output_type": "execute_result"
    },
    {
     "data": {
      "image/png": "[encoded data removed]",
      "text/plain": [
       "<Figure size 620.875x540 with 12 Axes>"
      ]
     },
     "metadata": {
      "needs_background": "light"
     },
     "output_type": "display_data"
    }
   ],
   "source": [
    "sns.pairplot(df,hue='pos_neg')\n",
    "\n"
   ]
  },
  {
   "cell_type": "markdown",
   "id": "e0e53321",
   "metadata": {},
   "source": [
    "### the plot above shows only slight correlation between text length and sentiment values"
   ]
  },
  {
   "cell_type": "code",
   "execution_count": 51,
   "id": "5368b1d2",
   "metadata": {},
   "outputs": [],
   "source": [
    "\n",
    "# X will represent the independent variables\n",
    "X = df[['text_len','compound']]\n",
    "# y is the dependent variable\n",
    "y = df['sentiment']\n"
   ]
  },
  {
   "cell_type": "code",
   "execution_count": 49,
   "id": "6e6aa5a8",
   "metadata": {},
   "outputs": [],
   "source": [
    "# now to get our training and testing data split up\n",
    "# the test size will be 30%\n",
    "# the random_state is arbitrary\n",
    "X_train,X_test,y_train,y_test = train_test_split(X,y,test_size=.30,random_state=13)"
   ]
  },
  {
   "cell_type": "code",
   "execution_count": 52,
   "id": "397a1e6d",
   "metadata": {},
   "outputs": [],
   "source": [
    "# now to begin training the data \n",
    "# initializing the LogisticRegression model\n",
    "log_reg = LogisticRegression()"
   ]
  },
  {
   "cell_type": "markdown",
   "id": "19fbd8f1",
   "metadata": {},
   "source": [
    "### The Classification Report:"
   ]
  },
  {
   "cell_type": "code",
   "execution_count": 54,
   "id": "35fbc43a",
   "metadata": {},
   "outputs": [],
   "source": [
    "log_reg.fit(X_train,y_train)\n",
    "predictions = log_reg.predict(X_test)"
   ]
  },
  {
   "cell_type": "code",
   "execution_count": 55,
   "id": "8c036286",
   "metadata": {},
   "outputs": [
    {
     "name": "stdout",
     "output_type": "stream",
     "text": [
      "              precision    recall  f1-score   support\n",
      "\n",
      "          -1       0.95      0.73      0.83       770\n",
      "           1       0.92      0.99      0.96      2561\n",
      "\n",
      "    accuracy                           0.93      3331\n",
      "   macro avg       0.94      0.86      0.89      3331\n",
      "weighted avg       0.93      0.93      0.93      3331\n",
      "\n"
     ]
    }
   ],
   "source": [
    "# getting the predictions off of the test data\n",
    "# predictions = log_reg.predict(X_test)\n",
    "# then we'll compare with the accuracy, precision, and F1 scores\n",
    "print(metrics.classification_report(y_test,predictions))"
   ]
  },
  {
   "cell_type": "markdown",
   "id": "beb65fde",
   "metadata": {},
   "source": [
    "### The Confusion Matrix: as dataframe and heatmap"
   ]
  },
  {
   "cell_type": "code",
   "execution_count": 58,
   "id": "580b4a8f",
   "metadata": {},
   "outputs": [
    {
     "data": {
      "text/html": [
       "<div>\n",
       "<style scoped>\n",
       "    .dataframe tbody tr th:only-of-type {\n",
       "        vertical-align: middle;\n",
       "    }\n",
       "\n",
       "    .dataframe tbody tr th {\n",
       "        vertical-align: top;\n",
       "    }\n",
       "\n",
       "    .dataframe thead th {\n",
       "        text-align: right;\n",
       "    }\n",
       "</style>\n",
       "<table border=\"1\" class=\"dataframe\">\n",
       "  <thead>\n",
       "    <tr style=\"text-align: right;\">\n",
       "      <th></th>\n",
       "      <th>Pos</th>\n",
       "      <th>Neg</th>\n",
       "    </tr>\n",
       "  </thead>\n",
       "  <tbody>\n",
       "    <tr>\n",
       "      <th>Pos</th>\n",
       "      <td>561</td>\n",
       "      <td>209</td>\n",
       "    </tr>\n",
       "    <tr>\n",
       "      <th>Neg</th>\n",
       "      <td>29</td>\n",
       "      <td>2532</td>\n",
       "    </tr>\n",
       "  </tbody>\n",
       "</table>\n",
       "</div>"
      ],
      "text/plain": [
       "     Pos   Neg\n",
       "Pos  561   209\n",
       "Neg   29  2532"
      ]
     },
     "execution_count": 58,
     "metadata": {},
     "output_type": "execute_result"
    }
   ],
   "source": [
    "conf_matrix = pd.DataFrame(metrics.confusion_matrix(y_test,predictions),index=['Pos','Neg'],columns=['Pos','Neg'])\n",
    "conf_matrix"
   ]
  },
  {
   "cell_type": "code",
   "execution_count": 59,
   "id": "18a0152d",
   "metadata": {},
   "outputs": [
    {
     "data": {
      "text/plain": [
       "Text(33.0, 0.5, 'Test Set')"
      ]
     },
     "execution_count": 59,
     "metadata": {},
     "output_type": "execute_result"
    },
    {
     "data": {
      "image/png": "[encoded data removed]",
      "text/plain": [
       "<Figure size 432x288 with 2 Axes>"
      ]
     },
     "metadata": {
      "needs_background": "light"
     },
     "output_type": "display_data"
    }
   ],
   "source": [
    "sns.heatmap(confusion_matrix(y_test,predictions),annot=True,fmt=' .2f')\n",
    "plt.xlabel(\"Predicted Set\")\n",
    "plt.ylabel(\"Test Set\")"
   ]
  },
  {
   "cell_type": "markdown",
   "id": "aa10f5f3",
   "metadata": {},
   "source": [
    "### The Accuracy Score"
   ]
  },
  {
   "cell_type": "code",
   "execution_count": 60,
   "id": "34c75f2c",
   "metadata": {},
   "outputs": [
    {
     "data": {
      "text/plain": [
       "0.9285499849894926"
      ]
     },
     "execution_count": 60,
     "metadata": {},
     "output_type": "execute_result"
    }
   ],
   "source": [
    "metrics.accuracy_score(y_test,predictions)"
   ]
  },
  {
   "cell_type": "markdown",
   "id": "a1ba8f7c",
   "metadata": {},
   "source": [
    "### Regression plot"
   ]
  },
  {
   "cell_type": "code",
   "execution_count": 61,
   "id": "ae49de7e",
   "metadata": {},
   "outputs": [
    {
     "data": {
      "text/plain": [
       "<AxesSubplot:ylabel='sentiment'>"
      ]
     },
     "execution_count": 61,
     "metadata": {},
     "output_type": "execute_result"
    },
    {
     "data": {
      "image/png": "[encoded data removed]",
      "text/plain": [
       "<Figure size 432x288 with 1 Axes>"
      ]
     },
     "metadata": {
      "needs_background": "light"
     },
     "output_type": "display_data"
    }
   ],
   "source": [
    "sns.regplot(x=predictions,y=y_test,data=df)"
   ]
  },
  {
   "cell_type": "code",
   "execution_count": 66,
   "id": "23c617ff",
   "metadata": {},
   "outputs": [],
   "source": [
    "def get_comp(x):\n",
    "    score = sia.polarity_scores(x)\n",
    "    # returns the value of the key 'compound'\n",
    "    return score['compound']\n",
    "\n",
    "def get_polarity(text):\n",
    "#     text = input(\"Enter sentence: \\n\\nYour sentence:\\n\")\n",
    "    if type(text) == str:\n",
    "        text_len = len(text)\n",
    "        comp = get_comp(text)\n",
    "\n",
    "        test = [[text_len,comp]]\n",
    "        pred = log_reg.predict(test)\n",
    "#         print(\"Entered Text: \",text)\n",
    "        if pred == 1:\n",
    "            return \"Positive\"\n",
    "        else:\n",
    "            return \"Negative\"\n",
    "    else:\n",
    "        logging.basicConfig(filename='logger.log',\n",
    "                   level=logging.INFO)\n",
    "        logging.info(\"Invalid Entry was recorded\")\n",
    "        return \"Please enter a sentence for me to predict.\"\n",
    "        get_polarity()"
   ]
  },
  {
   "cell_type": "markdown",
   "id": "86d0b110",
   "metadata": {},
   "source": [
    "### Enter a sentence into the text field below to see its predicted sentiment polarity:\n"
   ]
  },
  {
   "cell_type": "code",
   "execution_count": 67,
   "id": "d8ecc355",
   "metadata": {},
   "outputs": [
    {
     "data": {
      "application/vnd.jupyter.widget-view+json": {
       "model_id": "5b1a02835ddc4582b7c69effa6d11fe0",
       "version_major": 2,
       "version_minor": 0
      },
      "text/plain": [
       "Textarea(value='')"
      ]
     },
     "metadata": {},
     "output_type": "display_data"
    },
    {
     "data": {
      "application/vnd.jupyter.widget-view+json": {
       "model_id": "2a68ed2ee0a64aaf9f62b68d9e1c538e",
       "version_major": 2,
       "version_minor": 0
      },
      "text/plain": [
       "Button(button_style='success', description='Enter Sentence', style=ButtonStyle())"
      ]
     },
     "metadata": {},
     "output_type": "display_data"
    },
    {
     "data": {
      "application/vnd.jupyter.widget-view+json": {
       "model_id": "fea0c023f1794af2b55d0e69635b4475",
       "version_major": 2,
       "version_minor": 0
      },
      "text/plain": [
       "Label(value='')"
      ]
     },
     "metadata": {},
     "output_type": "display_data"
    },
    {
     "data": {
      "application/vnd.jupyter.widget-view+json": {
       "model_id": "6bd0fe19327e4ef98d64fd499a029caa",
       "version_major": 2,
       "version_minor": 0
      },
      "text/plain": [
       "Label(value='Predicted Polarity: ')"
      ]
     },
     "metadata": {},
     "output_type": "display_data"
    },
    {
     "data": {
      "application/vnd.jupyter.widget-view+json": {
       "model_id": "b9c247551bf34d3088a6550fb32573d9",
       "version_major": 2,
       "version_minor": 0
      },
      "text/plain": [
       "Label(value='')"
      ]
     },
     "metadata": {},
     "output_type": "display_data"
    }
   ],
   "source": [
    "text = widgets.Textarea()\n",
    "text_output = widgets.Textarea()\n",
    "output_label = widgets.Label(\"Predicted Polarity: \")\n",
    "output_label2 = widgets.Label()\n",
    "output_label3 = widgets.Label()\n",
    "\n",
    "enter_button = widgets.Button(description='Enter Sentence',button_style='success')\n",
    "def on_button_clicked(x):\n",
    "    \n",
    "    x = text.value\n",
    "    output_label3.value = x\n",
    "    \n",
    "    output_label2.value = get_polarity(x)\n",
    "#     display(\"Entered sentence: \",text.value)\n",
    "    display(output_label2)\n",
    "#     display(output_label)\n",
    "#     display(text_output)\n",
    "display(text,enter_button)\n",
    "display(output_label3)\n",
    "display(output_label,output_label2)\n",
    "# display(text_ouput)\n",
    "enter_button.on_click(on_button_clicked)\n",
    "# logging.setLevel(logging.DEBUG)"
   ]
  },
  {
   "cell_type": "code",
   "execution_count": null,
   "id": "c2d69725",
   "metadata": {},
   "outputs": [],
   "source": []
  }
 ],
 "metadata": {
  "kernelspec": {
   "display_name": "Python 3",
   "language": "python",
   "name": "python3"
  },
  "language_info": {
   "codemirror_mode": {
    "name": "ipython",
    "version": 3
   },
   "file_extension": ".py",
   "mimetype": "text/x-python",
   "name": "python",
   "nbconvert_exporter": "python",
   "pygments_lexer": "ipython3",
   "version": "3.8.8"
  }
 },
 "nbformat": 4,
 "nbformat_minor": 5
}
